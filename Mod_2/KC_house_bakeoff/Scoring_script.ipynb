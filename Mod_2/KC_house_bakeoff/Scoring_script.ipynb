{
 "cells": [
  {
   "cell_type": "code",
   "execution_count": 1,
   "metadata": {},
   "outputs": [],
   "source": [
    "import pandas as pd\n",
    "import numpy as np\n",
    "from sklearn import metrics\n",
    "import time\n",
    "import os\n",
    "import glob\n",
    "import re"
   ]
  },
  {
   "cell_type": "code",
   "execution_count": 4,
   "metadata": {},
   "outputs": [],
   "source": [
    "actuals = pd.read_csv('kc_house_data_test_target.csv',index_col=0  )\n"
   ]
  },
  {
   "cell_type": "code",
   "execution_count": 5,
   "metadata": {},
   "outputs": [
    {
     "data": {
      "text/html": [
       "<div>\n",
       "<style scoped>\n",
       "    .dataframe tbody tr th:only-of-type {\n",
       "        vertical-align: middle;\n",
       "    }\n",
       "\n",
       "    .dataframe tbody tr th {\n",
       "        vertical-align: top;\n",
       "    }\n",
       "\n",
       "    .dataframe thead th {\n",
       "        text-align: right;\n",
       "    }\n",
       "</style>\n",
       "<table border=\"1\" class=\"dataframe\">\n",
       "  <thead>\n",
       "    <tr style=\"text-align: right;\">\n",
       "      <th></th>\n",
       "      <th>id</th>\n",
       "      <th>price</th>\n",
       "    </tr>\n",
       "  </thead>\n",
       "  <tbody>\n",
       "    <tr>\n",
       "      <th>0</th>\n",
       "      <td>1974300020</td>\n",
       "      <td>380000.0</td>\n",
       "    </tr>\n",
       "    <tr>\n",
       "      <th>1</th>\n",
       "      <td>1974300020</td>\n",
       "      <td>624900.0</td>\n",
       "    </tr>\n",
       "    <tr>\n",
       "      <th>2</th>\n",
       "      <td>3630020380</td>\n",
       "      <td>379770.0</td>\n",
       "    </tr>\n",
       "    <tr>\n",
       "      <th>3</th>\n",
       "      <td>1771000290</td>\n",
       "      <td>340000.0</td>\n",
       "    </tr>\n",
       "    <tr>\n",
       "      <th>4</th>\n",
       "      <td>5126310470</td>\n",
       "      <td>515500.0</td>\n",
       "    </tr>\n",
       "  </tbody>\n",
       "</table>\n",
       "</div>"
      ],
      "text/plain": [
       "           id     price\n",
       "0  1974300020  380000.0\n",
       "1  1974300020  624900.0\n",
       "2  3630020380  379770.0\n",
       "3  1771000290  340000.0\n",
       "4  5126310470  515500.0"
      ]
     },
     "execution_count": 5,
     "metadata": {},
     "output_type": "execute_result"
    }
   ],
   "source": [
    "actuals.head()"
   ]
  },
  {
   "cell_type": "code",
   "execution_count": 6,
   "metadata": {},
   "outputs": [
    {
     "data": {
      "text/plain": [
       "(4323, 2)"
      ]
     },
     "execution_count": 6,
     "metadata": {},
     "output_type": "execute_result"
    }
   ],
   "source": [
    "actuals.shape"
   ]
  },
  {
   "cell_type": "code",
   "execution_count": 32,
   "metadata": {},
   "outputs": [],
   "source": [
    "path = '/Users/swilson5/Documents/DSC/ds-051120/nyc-mhtn-ds-051120-lectures/Mod_2/KC_house_data/answers'\n",
    "extension = 'csv'"
   ]
  },
  {
   "cell_type": "code",
   "execution_count": 33,
   "metadata": {},
   "outputs": [
    {
     "name": "stdout",
     "output_type": "stream",
     "text": [
      "['housing_preds_MLJB.csv', 'housing_preds_CUDM.csv', 'housing_preds_ZCJP.csv', 'housing_preds_ABTH.csv', 'housing_preds_DCJV.csv', 'housing_preds_MKKE.csv', 'housing_preds_DRKH.csv', 'housing_preds_BRAD.csv', 'housing_preds_JJ.csv', 'housing_preds_LCJDK .csv', 'housing_preds_MLJB-2.csv']\n"
     ]
    }
   ],
   "source": [
    "\n",
    "# create a list of all file names\n",
    "# starting with testlabels_ from the file\n",
    "\n",
    "\n",
    "# ‎⁨Macintosh HD⁩ ▸ ⁨Users⁩ ▸ ⁨swilson5⁩ ▸ ⁨Documents⁩ ▸ ⁨DSC⁩ ▸ ⁨ds-033020⁩ ▸ ⁨nyc-ds-033020-lectures⁩ ▸ ⁨Mod_2⁩ ▸ ⁨KC_house_data⁩\n",
    "os.chdir(path)\n",
    "files = glob.glob('*.{}'.format(extension))\n",
    "print(files)"
   ]
  },
  {
   "cell_type": "code",
   "execution_count": 34,
   "metadata": {},
   "outputs": [],
   "source": [
    "#create dictionary to store results\n",
    "results = {}\n"
   ]
  },
  {
   "cell_type": "code",
   "execution_count": 35,
   "metadata": {},
   "outputs": [
    {
     "name": "stdout",
     "output_type": "stream",
     "text": [
      "MLJB\n",
      "MLJB not the correct size 4320\n",
      "CUDM\n",
      "ZCJP\n",
      "ABTH\n",
      "DCJV\n",
      "MKKE\n",
      "DRKH\n",
      "BRAD\n",
      "JJ\n",
      "LCJDK \n",
      "MLJB-2\n"
     ]
    }
   ],
   "source": [
    "for file in files:\n",
    "    name = file.split(\"_\")[-1].split(\".\")[0]\n",
    "    print(name)\n",
    "    guesses = pd.read_csv(file, header=None, index_col=0 )\n",
    " \n",
    "\n",
    "    # guesses.sort_index(inplace=True)\n",
    "\n",
    "    if guesses.shape[0] != 4323:\n",
    "        print(name, \"not the correct size\", guesses.shape[0]  )\n",
    "        continue\n",
    "    mae = metrics.mean_absolute_error(actuals['price'],guesses)\n",
    "    mse = metrics.mean_squared_error(actuals['price'],guesses)\n",
    "    rmse = np.sqrt(mse)\n",
    "    results[name]= [mae, rmse]\n"
   ]
  },
  {
   "cell_type": "code",
   "execution_count": 36,
   "metadata": {},
   "outputs": [],
   "source": [
    "\n",
    "sorted_results = sorted(results.items(), key=lambda x: x[1][0], reverse=True)"
   ]
  },
  {
   "cell_type": "code",
   "execution_count": 37,
   "metadata": {},
   "outputs": [
    {
     "data": {
      "text/plain": [
       "[('DRKH', [372234894.4442741, 407140602.9708012]),\n",
       " ('DCJV', [165143.7177808596, 751785.4623931488]),\n",
       " ('MLJB-2', [135404.10795580896, 240251.52244025955]),\n",
       " ('BRAD', [133300.6967597492, 211528.4643191768]),\n",
       " ('ABTH', [104559.609076825, 172276.1071178834]),\n",
       " ('MKKE', [94962.90668767021, 157173.87059008857]),\n",
       " ('LCJDK ', [94015.93936392303, 153823.77306621845]),\n",
       " ('JJ', [93707.28717618504, 149641.0015099866]),\n",
       " ('ZCJP', [90891.89483545824, 148315.75324703928]),\n",
       " ('CUDM', [79970.88597034349, 126345.1523603406])]"
      ]
     },
     "execution_count": 37,
     "metadata": {},
     "output_type": "execute_result"
    }
   ],
   "source": [
    "sorted_results"
   ]
  },
  {
   "cell_type": "code",
   "execution_count": 38,
   "metadata": {},
   "outputs": [
    {
     "name": "stdout",
     "output_type": "stream",
     "text": [
      "Now printing the results with in ascending order\n",
      "407140602.9708012\n",
      "DRKH achieved an RMSE of 407140602.9708012 \n",
      "\n",
      "751785.4623931488\n",
      "DCJV achieved an RMSE of 751785.4623931488 \n",
      "\n",
      "240251.52244025955\n",
      "MLJB-2 achieved an RMSE of 240251.52244025955 \n",
      "\n",
      "211528.4643191768\n",
      "BRAD achieved an RMSE of 211528.4643191768 \n",
      "\n",
      "172276.1071178834\n",
      "ABTH achieved an RMSE of 172276.1071178834 \n",
      "\n",
      "157173.87059008857\n",
      "MKKE achieved an RMSE of 157173.87059008857 \n",
      "\n",
      "153823.77306621845\n",
      "LCJDK  achieved an RMSE of 153823.77306621845 \n",
      "\n",
      "149641.0015099866\n",
      "JJ achieved an RMSE of 149641.0015099866 \n",
      "\n",
      "148315.75324703928\n",
      "ZCJP achieved an RMSE of 148315.75324703928 \n",
      "\n",
      "126345.1523603406\n",
      "CUDM achieved an RMSE of 126345.1523603406 \n",
      "\n"
     ]
    }
   ],
   "source": [
    "\n",
    "\n",
    "print('Now printing the results with in ascending order')\n",
    "\n",
    "for k,v in sorted_results:\n",
    "    print(v[1])\n",
    "    print('{} achieved an RMSE of {} \\n'.format(\n",
    "          k.upper(), v[1]))\n",
    "\n",
    "    time.sleep(2)\n"
   ]
  },
  {
   "cell_type": "code",
   "execution_count": 39,
   "metadata": {},
   "outputs": [
    {
     "name": "stdout",
     "output_type": "stream",
     "text": [
      "Now printing the results with in ascending order\n",
      "407140602.9708012\n",
      "DRKH achieved an MAE of 372234894.4442741 \n",
      "\n",
      "751785.4623931488\n",
      "DCJV achieved an MAE of 165143.7177808596 \n",
      "\n",
      "240251.52244025955\n",
      "MLJB-2 achieved an MAE of 135404.10795580896 \n",
      "\n",
      "211528.4643191768\n",
      "BRAD achieved an MAE of 133300.6967597492 \n",
      "\n",
      "172276.1071178834\n",
      "ABTH achieved an MAE of 104559.609076825 \n",
      "\n",
      "157173.87059008857\n",
      "MKKE achieved an MAE of 94962.90668767021 \n",
      "\n",
      "153823.77306621845\n",
      "LCJDK  achieved an MAE of 94015.93936392303 \n",
      "\n",
      "149641.0015099866\n",
      "JJ achieved an MAE of 93707.28717618504 \n",
      "\n",
      "148315.75324703928\n",
      "ZCJP achieved an MAE of 90891.89483545824 \n",
      "\n",
      "126345.1523603406\n",
      "CUDM achieved an MAE of 79970.88597034349 \n",
      "\n"
     ]
    }
   ],
   "source": [
    "\n",
    "print('Now printing the results with in ascending order')\n",
    "\n",
    "for k,v in sorted_results:\n",
    "    print(v[1])\n",
    "    print('{} achieved an MAE of {} \\n'.format(\n",
    "          k.upper(), v[0]))\n",
    "\n",
    "    time.sleep(.1)\n"
   ]
  },
  {
   "cell_type": "code",
   "execution_count": null,
   "metadata": {},
   "outputs": [],
   "source": []
  }
 ],
 "metadata": {
  "kernelspec": {
   "display_name": "Python 3",
   "language": "python",
   "name": "python3"
  },
  "language_info": {
   "codemirror_mode": {
    "name": "ipython",
    "version": 3
   },
   "file_extension": ".py",
   "mimetype": "text/x-python",
   "name": "python",
   "nbconvert_exporter": "python",
   "pygments_lexer": "ipython3",
   "version": "3.7.3"
  }
 },
 "nbformat": 4,
 "nbformat_minor": 2
}
