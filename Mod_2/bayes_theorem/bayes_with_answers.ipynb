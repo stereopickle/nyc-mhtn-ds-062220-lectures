{
 "cells": [
  {
   "cell_type": "markdown",
   "metadata": {
    "Collapsed": "true"
   },
   "source": [
    "# Bayes Theorem\n",
    "__Aim__: SWBAT explain Bayesian versus frequentist thinking and use Bayes Theorem to calculate probabilities. \n",
    "\n",
    "Breaking down today's lecture:\n",
    "1. Motivation: Why Bayes? (5 min)\n",
    "2. Explanation: So What Do These Bayesians Say? (15 min)\n",
    "3. Application: Bayes' Theorem - Understanding It and Applying It (20 min)\n",
    "\n",
    "*Notebook based on Flatiron DS Online instructor Victor Geislinger's Bayes Theorem lecture.*"
   ]
  },
  {
   "cell_type": "markdown",
   "metadata": {
    "Collapsed": "false"
   },
   "source": [
    "# Why Bayes? "
   ]
  },
  {
   "cell_type": "markdown",
   "metadata": {
    "Collapsed": "false"
   },
   "source": [
    "Suppose you're an amateur meteorologist and you have some instruments that measure things like barometric pressure, dew point, and temperature. How would you decide if it's going to rain today?"
   ]
  },
  {
   "cell_type": "markdown",
   "metadata": {
    "Collapsed": "false"
   },
   "source": [
    "## What did Bayes think about this?"
   ]
  },
  {
   "cell_type": "markdown",
   "metadata": {
    "Collapsed": "false"
   },
   "source": [
    "We know in general how likely it is to rain on any given day (in NYC 121 days/year - [source](https://weather-and-climate.com/average-monthly-Rainy-days,New-York,United-States-of-America)), but we have some additional info (pressure, dew point, etc) - we can and should use this to our advantage! Given what we know about the past, we can bring in a hypothesis we have about today!\n",
    "\n",
    "Side note: He thought this way of thinking was so obvious that it wasn't even worth writing down! It wasn't until after he died that Richard Price, another mathematician, read through his notes and uncovered Bayes' way of thinking about probability and published it for the world to see. "
   ]
  },
  {
   "cell_type": "markdown",
   "metadata": {
    "Collapsed": "false",
    "heading_collapsed": true
   },
   "source": [
    "# So What Do These Bayesians Say?"
   ]
  },
  {
   "cell_type": "markdown",
   "metadata": {
    "Collapsed": "false",
    "heading_collapsed": true,
    "hidden": true
   },
   "source": [
    "## Basically C3P0 is wrong & Hans Solo is a badass"
   ]
  },
  {
   "cell_type": "markdown",
   "metadata": {
    "Collapsed": "false",
    "hidden": true
   },
   "source": [
    "https://www.countbayesie.com/blog/2015/2/18/hans-solo-and-bayesian-priors\n",
    "\n",
    "**Bayesian interpretation of probability**: the expected outcome based on some _prior_ knowledge or belief"
   ]
  },
  {
   "cell_type": "markdown",
   "metadata": {
    "Collapsed": "false",
    "heading_collapsed": true,
    "hidden": true
   },
   "source": [
    "## Other non-Star Wars examples: "
   ]
  },
  {
   "cell_type": "markdown",
   "metadata": {
    "Collapsed": "false",
    "hidden": true
   },
   "source": [
    "> Every time I flipped this coin it landed heads, so next time I flip it it'll likely land on heads again.\n",
    "\n",
    "> 7-up: Based on what I know about my classmates, I'm pretty sure Lucy picked me.\n",
    "\n",
    "> Hans is a one great pilot, so he likely will get through the asteroid field even if others will fail (crash and blow-up)"
   ]
  },
  {
   "cell_type": "markdown",
   "metadata": {
    "Collapsed": "false",
    "heading_collapsed": true,
    "hidden": true
   },
   "source": [
    "## The other faction - Frequentists"
   ]
  },
  {
   "cell_type": "markdown",
   "metadata": {
    "Collapsed": "false",
    "hidden": true
   },
   "source": [
    "**Frequentists** interpretation of probability: If we repeat an experiment under the proposed condition, many, many times, what probability doe the aggregated results tend to? \n",
    "\n",
    "Basically, the Bayesians assign a probability to a hypothesis but Frequentists test a hypothesis and determine probability with repeated trials.\n",
    "\n",
    "Some days you're a Frequentist, other days you're a Bayesian.\n",
    "\n",
    "<img src='https://imgs.xkcd.com/comics/frequentists_vs_bayesians_2x.png' width=400>\n",
    "\n",
    "Basically, because it's unlikely that the detector is lying, the frequentist decides it's telling the truth. However, the Bayesian knows that it's _super_ unlikely that the sun exploded, so they decide that, given their prior knowledge, the detector is lying. Here's a [lengthy interpretation](https://www.explainxkcd.com/wiki/index.php/1132:_Frequentists_vs._Bayesians) of this comic, if you're interested!\n"
   ]
  },
  {
   "cell_type": "markdown",
   "metadata": {
    "Collapsed": "false",
    "heading_collapsed": true,
    "hidden": true
   },
   "source": [
    "## Pondering Time 🤔"
   ]
  },
  {
   "cell_type": "markdown",
   "metadata": {
    "Collapsed": "false"
   },
   "source": [
    "#### When we conduct hypothesis tests to make inferences about a population's mean are we acting as frequentists or Bayesians?"
   ]
  },
  {
   "cell_type": "markdown",
   "metadata": {
    "Collapsed": "false",
    "hidden": true
   },
   "source": [
    "Generally thought of as frequentist! We assume our sample to be one of many possibilities that could be obtained over infinite samplings. We take on no prior knowledge about the situation, just the data given. Then, we suppose our population mean is equal to our sample mean and get the probability that we observe these values, given this assumption. A frequentist views this as one trial of what could be many, and interprets the probability within that context. \n",
    "\n",
    "Bayesians, on the other hand, would represent the uncertainty probabalistically, defining a probability distribution over the possible values of the mean and use sample data to update this distribution. The interpretation of this would not be in the context of infinite trials, but rather, within the context of the knowledge you had before sampling, and after sampling updating your beliefs. Note: Bayesian inference is a whole other field you can study! (If interested, the [German Tank Problem](https://en.wikipedia.org/wiki/German_tank_problem) is a problem that, when answered using frequentist inference methods, has a different answer than when answered using Bayesian inference methods).\n",
    "\n",
    "[Source 1](https://www.probabilisticworld.com/frequentist-bayesian-approaches-inferential-statistics/) and [Source 2](https://cxl.com/blog/bayesian-frequentist-ab-testing/)"
   ]
  },
  {
   "cell_type": "markdown",
   "metadata": {
    "Collapsed": "false"
   },
   "source": [
    "## Application"
   ]
  },
  {
   "cell_type": "markdown",
   "metadata": {
    "Collapsed": "false"
   },
   "source": [
    "See [this video on discovering lost treasure](https://abcn.ws/2tsQs6l) for an application of Bayesian inference IRL!"
   ]
  },
  {
   "cell_type": "markdown",
   "metadata": {
    "Collapsed": "false",
    "heading_collapsed": true
   },
   "source": [
    "# Bayes' Theorem: Understanding It and Applying It"
   ]
  },
  {
   "cell_type": "markdown",
   "metadata": {
    "Collapsed": "false",
    "heading_collapsed": true,
    "hidden": true
   },
   "source": [
    "## Math Time! 🤓"
   ]
  },
  {
   "cell_type": "markdown",
   "metadata": {
    "Collapsed": "false",
    "hidden": true
   },
   "source": [
    "### Recall: Conditional Probability"
   ]
  },
  {
   "cell_type": "markdown",
   "metadata": {
    "Collapsed": "false"
   },
   "source": [
    "#### The \"and\" and \"or\" rules"
   ]
  },
  {
   "cell_type": "markdown",
   "metadata": {
    "Collapsed": "false"
   },
   "source": [
    "The words \"and\" and \"or\" dictate what operation we use when calculating overall probability. We'll talk about this in terms of a classic probability problem - marbles. Suppose we have a bag of 7 blue marbles, 3 white marbles, and 4 pink marbles.  \n",
    "- \"and\" denotes multiplication\n",
    "    - The probability of drawing a pink marble and a blue marble if we draw twice with replacement is 4/14 * 7/14, or about 14%\n",
    "- \"or\" denotes addition\n",
    "    - The probability of drawing a pink marble or a blue marble on our first draw is 4/14 + 7/14, or about 79%"
   ]
  },
  {
   "cell_type": "markdown",
   "metadata": {
    "Collapsed": "false"
   },
   "source": [
    "#### Law of Total Probability"
   ]
  },
  {
   "cell_type": "markdown",
   "metadata": {
    "Collapsed": "false"
   },
   "source": [
    "This law says that if we can achieve an event in several distinct ways, we can break down that problem into those sub-events and add those probabilities. Using our example before, suppose we want to calculate the probability of not drawing a pink marble. This can be broken down into two distinct events -- either you draw a blue marble, or you draw a white marble. \n",
    "\n",
    "P(not pink) = P(blue) + P(white) = 7/11 + 3/11 = 10/11"
   ]
  },
  {
   "cell_type": "markdown",
   "metadata": {
    "Collapsed": "false"
   },
   "source": [
    "#### Conditional Probability"
   ]
  },
  {
   "cell_type": "markdown",
   "metadata": {
    "Collapsed": "false"
   },
   "source": [
    "Sometimes we know stuff has already happened, as discussed before. So, we can limit our sample space to just the events in which we've already witnessed the first set of outcomes. \n",
    "- Notation: P(A | B) is read as _the probability of A given that B has happened_. \n",
    "- Two events are independent if P(A | B) = P(A)\n",
    "- One way to calculate P(A | B) is computing P(A and B)/P(B)\n",
    "    - But we don't always have this info! Cue Bayes!"
   ]
  },
  {
   "cell_type": "markdown",
   "metadata": {
    "Collapsed": "false",
    "heading_collapsed": true,
    "hidden": true
   },
   "source": [
    "### Drumroll please 🥁… Presenting, Bayes' Theorem!"
   ]
  },
  {
   "cell_type": "markdown",
   "metadata": {
    "Collapsed": "false",
    "hidden": true
   },
   "source": [
    "$$P(A|B) = \\frac{P(B|A)}{P(B)}\\ P(A) $$\n",
    "\n",
    "$$P(A|B) =  \\frac{P(B|A)P(A)}{P(B)}$$"
   ]
  },
  {
   "cell_type": "markdown",
   "metadata": {
    "Collapsed": "false",
    "hidden": true
   },
   "source": [
    "Each part (note, depending how you approach this, you might group different parts together):\n",
    "\n",
    "- $P(A)$: *prior*\n",
    "- $P(A|B)$: *posterior*\n",
    "- $\\frac{P(B|A)}{P(B)}$: *likelihood*\n",
    "\n",
    "> That wasn't so bad at all!!"
   ]
  },
  {
   "cell_type": "markdown",
   "metadata": {
    "Collapsed": "false",
    "heading_collapsed": true,
    "hidden": true
   },
   "source": [
    "## Working through an example - you tested positive for a disease 🤢"
   ]
  },
  {
   "cell_type": "markdown",
   "metadata": {
    "Collapsed": "false",
    "heading_collapsed": true,
    "hidden": true
   },
   "source": [
    "### The setup"
   ]
  },
  {
   "cell_type": "markdown",
   "metadata": {
    "Collapsed": "false",
    "hidden": true
   },
   "source": [
    "Let's assume some things to get quantify:\n",
    "\n",
    "- Disease is rare; only 0.01% of the population has it\n",
    "- Test has a sensitivity of .99 \n",
    "    + Correctly identifies 99% of the time if you are sick"
   ]
  },
  {
   "cell_type": "markdown",
   "metadata": {
    "Collapsed": "false",
    "heading_collapsed": true,
    "hidden": true
   },
   "source": [
    "### Q: How do we rewrite our Bayes Theorem in the context of our problem?"
   ]
  },
  {
   "cell_type": "markdown",
   "metadata": {
    "Collapsed": "false",
    "heading_collapsed": true,
    "hidden": true
   },
   "source": [
    "#### ANSWER:"
   ]
  },
  {
   "cell_type": "markdown",
   "metadata": {
    "Collapsed": "false",
    "heading_collapsed": true,
    "hidden": true
   },
   "source": [
    "##### Use Bayes' Theorem to fill it out:"
   ]
  },
  {
   "cell_type": "markdown",
   "metadata": {
    "Collapsed": "false",
    "hidden": true
   },
   "source": [
    "$$P(sick | positive) =  \\frac{P(positive | sick)\\ P(sick)}{P(positive)}$$"
   ]
  },
  {
   "cell_type": "markdown",
   "metadata": {
    "Collapsed": "false",
    "heading_collapsed": true,
    "hidden": true
   },
   "source": [
    "##### But we can expand P(positive) to be easier to calculate using what we know! (hint: use the law of total probability!)"
   ]
  },
  {
   "cell_type": "markdown",
   "metadata": {
    "Collapsed": "false",
    "hidden": true
   },
   "source": [
    "$$P(positive) = P(sick)\\ P(positive | sick) + P(not\\ sick)\\ P(positive|not\\ sick)$$"
   ]
  },
  {
   "cell_type": "markdown",
   "metadata": {
    "Collapsed": "false",
    "heading_collapsed": true,
    "hidden": true
   },
   "source": [
    "##### Finally, our ultimate equation"
   ]
  },
  {
   "cell_type": "markdown",
   "metadata": {
    "Collapsed": "false",
    "hidden": true
   },
   "source": [
    "$$P(sick | positive) =  \\frac{P(positive | sick)\\ P(sick)}{P(sick)\\ P(positive | sick) + P(not\\ sick)\\ P(positive|not\\ sick)}$$"
   ]
  },
  {
   "cell_type": "markdown",
   "metadata": {
    "Collapsed": "false",
    "heading_collapsed": true,
    "hidden": true
   },
   "source": [
    "### Work it out"
   ]
  },
  {
   "cell_type": "markdown",
   "metadata": {
    "Collapsed": "false",
    "heading_collapsed": true,
    "hidden": true
   },
   "source": [
    "#### Defining the probabilities"
   ]
  },
  {
   "cell_type": "code",
   "execution_count": 1,
   "metadata": {
    "Collapsed": "false",
    "ExecuteTime": {
     "end_time": "2020-04-21T22:41:56.803518Z",
     "start_time": "2020-04-21T22:41:56.797488Z"
    },
    "hidden": true
   },
   "outputs": [],
   "source": [
    "# probability of sick & healthy\n",
    "p_sick = 0.0001\n",
    "p_not_sick = 1 - p_sick"
   ]
  },
  {
   "cell_type": "code",
   "execution_count": 2,
   "metadata": {
    "Collapsed": "false",
    "ExecuteTime": {
     "end_time": "2020-04-21T22:42:32.160984Z",
     "start_time": "2020-04-21T22:42:32.158580Z"
    },
    "hidden": true
   },
   "outputs": [],
   "source": [
    "# probability of test being correct (accuracy)\n",
    "p_positive_sick = 0.99\n",
    "p_positive_not_sick = 1 - p_positive_sick"
   ]
  },
  {
   "cell_type": "code",
   "execution_count": 3,
   "metadata": {
    "Collapsed": "false",
    "ExecuteTime": {
     "end_time": "2020-04-21T22:42:46.161883Z",
     "start_time": "2020-04-21T22:42:46.159537Z"
    },
    "hidden": true
   },
   "outputs": [],
   "source": [
    "# probability of positive test (whether or not you are sick)\n",
    "p_positive = p_sick*p_positive_sick + p_not_sick*p_positive_not_sick"
   ]
  },
  {
   "cell_type": "markdown",
   "metadata": {
    "Collapsed": "false",
    "heading_collapsed": true,
    "hidden": true
   },
   "source": [
    "#### Defining the parts for Bayes' Theorem"
   ]
  },
  {
   "cell_type": "code",
   "execution_count": 4,
   "metadata": {
    "Collapsed": "false",
    "ExecuteTime": {
     "end_time": "2020-04-21T22:43:27.650051Z",
     "start_time": "2020-04-21T22:43:27.647841Z"
    },
    "hidden": true
   },
   "outputs": [],
   "source": [
    "# belief before hand\n",
    "prior = p_sick\n",
    "\n",
    "# how likely are we to test positive and be sick\n",
    "likelihood = p_positive_sick / p_positive"
   ]
  },
  {
   "cell_type": "code",
   "execution_count": 5,
   "metadata": {
    "Collapsed": "false",
    "ExecuteTime": {
     "end_time": "2020-04-21T22:43:37.633872Z",
     "start_time": "2020-04-21T22:43:37.631075Z"
    },
    "hidden": true
   },
   "outputs": [],
   "source": [
    "# handy dandy function\n",
    "def find_posterior(prior, likelihood):\n",
    "    return likelihood * prior"
   ]
  },
  {
   "cell_type": "markdown",
   "metadata": {
    "Collapsed": "false",
    "heading_collapsed": true,
    "hidden": true
   },
   "source": [
    "#### Final result"
   ]
  },
  {
   "cell_type": "code",
   "execution_count": 6,
   "metadata": {
    "Collapsed": "false",
    "ExecuteTime": {
     "end_time": "2020-04-21T22:45:36.983768Z",
     "start_time": "2020-04-21T22:45:36.980971Z"
    },
    "hidden": true
   },
   "outputs": [
    {
     "name": "stdout",
     "output_type": "stream",
     "text": [
      "You have a 0.98% chance of actually being sick\n"
     ]
    }
   ],
   "source": [
    "prob_youre_sick = find_posterior(prior, likelihood)\n",
    "\n",
    "# multiplying by 100 just to give us a percent (rather than a decimal probability)\n",
    "print(f'You have a {prob_youre_sick*100:.2f}% chance of actually being sick')"
   ]
  },
  {
   "cell_type": "markdown",
   "metadata": {
    "Collapsed": "true",
    "heading_collapsed": true,
    "hidden": true
   },
   "source": [
    "#### Q: Interpretation? Does this make sense?\n",
    "Let's work out a branching diagram."
   ]
  },
  {
   "cell_type": "markdown",
   "metadata": {
    "Collapsed": "false",
    "heading_collapsed": true,
    "hidden": true
   },
   "source": [
    "## Knowledge Check! 🧠 "
   ]
  },
  {
   "cell_type": "markdown",
   "metadata": {
    "Collapsed": "false",
    "hidden": true
   },
   "source": [
    "> Pretend we test positive for a disease twice (independent tests!)"
   ]
  },
  {
   "cell_type": "markdown",
   "metadata": {
    "Collapsed": "false",
    "heading_collapsed": true,
    "hidden": true
   },
   "source": [
    "### Back to the code!"
   ]
  },
  {
   "cell_type": "code",
   "execution_count": 7,
   "metadata": {
    "Collapsed": "false",
    "ExecuteTime": {
     "end_time": "2020-04-21T22:59:41.938079Z",
     "start_time": "2020-04-21T22:59:41.935118Z"
    },
    "hidden": true
   },
   "outputs": [],
   "source": [
    "# knowledge from having the disease\n",
    "prior = prob_youre_sick\n",
    "\n",
    "# Why doesn't likelihood not change?\n",
    "# Answer: same situation! only our KNOWLEDGE has changed 🧠"
   ]
  },
  {
   "cell_type": "code",
   "execution_count": 8,
   "metadata": {
    "Collapsed": "false",
    "ExecuteTime": {
     "end_time": "2020-04-21T22:59:46.865704Z",
     "start_time": "2020-04-21T22:59:46.863097Z"
    },
    "hidden": true
   },
   "outputs": [
    {
     "name": "stdout",
     "output_type": "stream",
     "text": [
      "\n",
      "    You have a 96.12% chance of actually being \n",
      "    sick after two positive tests\n",
      "\n"
     ]
    }
   ],
   "source": [
    "prob_sick_after_2_tests = find_posterior(prior, likelihood)\n",
    "print(f'''\n",
    "    You have a {prob_sick_after_2_tests*100:.2f}% chance of actually being \n",
    "    sick after two positive tests\n",
    "''')"
   ]
  },
  {
   "cell_type": "code",
   "execution_count": null,
   "metadata": {
    "Collapsed": "false"
   },
   "outputs": [],
   "source": []
  }
 ],
 "metadata": {
  "kernelspec": {
   "display_name": "Python 3",
   "language": "python",
   "name": "python3"
  },
  "language_info": {
   "codemirror_mode": {
    "name": "ipython",
    "version": 3
   },
   "file_extension": ".py",
   "mimetype": "text/x-python",
   "name": "python",
   "nbconvert_exporter": "python",
   "pygments_lexer": "ipython3",
   "version": "3.7.4"
  },
  "toc": {
   "base_numbering": 1,
   "nav_menu": {},
   "number_sections": true,
   "sideBar": false,
   "skip_h1_title": false,
   "title_cell": "Table of Contents",
   "title_sidebar": "Contents",
   "toc_cell": true,
   "toc_position": {
    "height": "calc(100% - 180px)",
    "left": "10px",
    "top": "150px",
    "width": "177.391px"
   },
   "toc_section_display": false,
   "toc_window_display": false
  },
  "varInspector": {
   "cols": {
    "lenName": 16,
    "lenType": 16,
    "lenVar": 40
   },
   "kernels_config": {
    "python": {
     "delete_cmd_postfix": "",
     "delete_cmd_prefix": "del ",
     "library": "var_list.py",
     "varRefreshCmd": "print(var_dic_list())"
    },
    "r": {
     "delete_cmd_postfix": ") ",
     "delete_cmd_prefix": "rm(",
     "library": "var_list.r",
     "varRefreshCmd": "cat(var_dic_list()) "
    }
   },
   "types_to_exclude": [
    "module",
    "function",
    "builtin_function_or_method",
    "instance",
    "_Feature"
   ],
   "window_display": false
  }
 },
 "nbformat": 4,
 "nbformat_minor": 4
}
